{
 "cells": [
  {
   "cell_type": "code",
   "execution_count": 1,
   "metadata": {},
   "outputs": [
    {
     "data": {
      "text/plain": [
       "'1.18.4'"
      ]
     },
     "execution_count": 1,
     "metadata": {},
     "output_type": "execute_result"
    }
   ],
   "source": [
    "from scipy.sparse import csr_matrix, lil_matrix\n",
    "from tqdm.auto import tqdm\n",
    "import numpy as np\n",
    "import os\n",
    "\n",
    "np.__version__"
   ]
  },
  {
   "cell_type": "code",
   "execution_count": 14,
   "metadata": {},
   "outputs": [
    {
     "name": "stdout",
     "output_type": "stream",
     "text": [
      "Processing /projects/c/place_recognition/output/2014-12-09-13-21-02/results\n",
      "Processing file htmap_loops_45.txt\n"
     ]
    }
   ],
   "source": [
    "run_1 = '2014-12-09-13-21-02'\n",
    "run_2 = '2014-12-10-18-10-50'\n",
    "run_3 = '2015-05-19-14-06-38'\n",
    "current_run = run_1\n",
    "exp_dir = f\"/projects/c/place_recognition/output/{current_run}/results\"\n",
    "if not os.path.isdir(exp_dir):\n",
    "    raise IOError(f\"Results dir {exp_dir} does not exist\")\n",
    "else:\n",
    "    print(f\"Processing {exp_dir}\")\n",
    "    \n",
    "filename_prefix = 'htmap_loops_'\n",
    "possible_filenames = list(filter(lambda x: x.startswith(filename_prefix), os.listdir(exp_dir)))\n",
    "if len(possible_filenames) < 1:\n",
    "    raise IOError(f\"No file with prefix {filename_prefix} found\")\n",
    "elif len(possible_filenames) > 1:\n",
    "    raise IOError(f\"Multiple files with prefix {filename_prefix} found: {possible_filenames}\")\n",
    "    \n",
    "filename = possible_filenames[0]\n",
    "filepath = os.path.join(exp_dir, filename)\n",
    "if not os.path.exists(filepath):\n",
    "    raise IOError(f\"File {filepath} not found\")\n",
    "else:\n",
    "    print(f\"Processing file {filename}\")"
   ]
  },
  {
   "cell_type": "markdown",
   "metadata": {},
   "source": [
    "## Without multithreading"
   ]
  },
  {
   "cell_type": "code",
   "execution_count": 3,
   "metadata": {},
   "outputs": [],
   "source": [
    "# %%time\n",
    "# image_match_list = []\n",
    "# with open(filepath, 'r') as loops_file:\n",
    "#     lines = loops_file.readlines()\n",
    "#     for i, line in enumerate(tqdm(lines)):\n",
    "#         match_indices = np.where(np.asarray(line.split('\\t')[:-1]).astype('bool') == True)\n",
    "#         image_match_list.append(match_indices)\n",
    "\n",
    "# len(image_match_list)"
   ]
  },
  {
   "cell_type": "markdown",
   "metadata": {},
   "source": [
    "## With multithreading"
   ]
  },
  {
   "cell_type": "code",
   "execution_count": null,
   "metadata": {},
   "outputs": [],
   "source": [
    "%%time\n",
    "image_match_list = []\n",
    "\n",
    "from multiprocessing import Pool\n",
    "def get_match_indices(line):\n",
    "    bool_values_list = line.split('\\t')[:-1]  # remove final element \\n at the end of each line\n",
    "    bool_values_array = np.asarray(bool_values_list).astype('bool')  # convert string arr to bool arr\n",
    "    return np.where(bool_values_array == True)[0]  # np.where returns (index_arr, ) for 1 dimension, return index_arr\n",
    "\n",
    "with open(filepath, 'r') as loops_file:\n",
    "    lines = loops_file.readlines()\n",
    "    with Pool() as pool:\n",
    "        image_match_list = list(tqdm(pool.imap(get_match_indices, lines), total=len(lines)))\n",
    "\n",
    "len(image_match_list)"
   ]
  },
  {
   "cell_type": "code",
   "execution_count": 5,
   "metadata": {},
   "outputs": [],
   "source": [
    "with open(os.path.join(exp_dir, 'htmap_image_matches.txt'), 'w') as f:\n",
    "    for match_list in image_match_list:\n",
    "        if len(match_list) == 0:\n",
    "            print('-1', file=f)\n",
    "        else:\n",
    "            print('\\t'.join(map(str, match_list)), file=f)"
   ]
  }
 ],
 "metadata": {
  "kernelspec": {
   "display_name": "Python 3",
   "language": "python",
   "name": "python3"
  },
  "language_info": {
   "codemirror_mode": {
    "name": "ipython",
    "version": 3
   },
   "file_extension": ".py",
   "mimetype": "text/x-python",
   "name": "python",
   "nbconvert_exporter": "python",
   "pygments_lexer": "ipython3",
   "version": "3.6.9"
  }
 },
 "nbformat": 4,
 "nbformat_minor": 4
}
